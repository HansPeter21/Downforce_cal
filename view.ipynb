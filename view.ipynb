{
 "cells": [
  {
   "cell_type": "markdown",
   "metadata": {},
   "source": [
    "# Analyse Ansys:"
   ]
  },
  {
   "cell_type": "code",
   "execution_count": null,
   "metadata": {},
   "outputs": [],
   "source": [
    "import matplotlib.pyplot as plt\n",
    "import pandas as pd\n",
    "import numpy as np"
   ]
  },
  {
   "cell_type": "markdown",
   "metadata": {},
   "source": [
    "## Druck unter dem Unterboden (Geschlossene Seiten):"
   ]
  },
  {
   "cell_type": "markdown",
   "metadata": {},
   "source": [
    "### Druck am Unterboden oben und am Rand von der Breite:"
   ]
  },
  {
   "cell_type": "code",
   "execution_count": null,
   "metadata": {},
   "outputs": [],
   "source": [
    "# Umkehrung der Daten da die Linie in Ansys in die Falsche Richtung gezogen wurde.\n",
    "dfi  = pd.read_csv(\"Data/Data_Infusor.csv\", sep=\",\")\n",
    "dfi =  dfi.iloc[::-1, ::-1]"
   ]
  },
  {
   "cell_type": "code",
   "execution_count": null,
   "metadata": {},
   "outputs": [],
   "source": [
    "dfd = pd.read_csv(\"Data/Data_Diffusor.csv\", sep=\",\")\n",
    "dfd =  dfd.iloc[::-1, ::-1]"
   ]
  },
  {
   "cell_type": "code",
   "execution_count": null,
   "metadata": {},
   "outputs": [],
   "source": [
    "dfu = pd.read_csv(\"Data/Data_Underbody.csv\", sep=\",\")\n",
    "dfu =  dfu.iloc[::-1, ::-1]"
   ]
  },
  {
   "cell_type": "code",
   "execution_count": null,
   "metadata": {},
   "outputs": [],
   "source": [
    "df = pd.concat([dfi,dfu,dfd],ignore_index=True,sort=False)"
   ]
  },
  {
   "cell_type": "code",
   "execution_count": null,
   "metadata": {},
   "outputs": [],
   "source": [
    "x = np.linspace(0,975,975)"
   ]
  },
  {
   "cell_type": "code",
   "execution_count": null,
   "metadata": {},
   "outputs": [],
   "source": [
    "y = df[\"Pressure [ Pa ]\"]"
   ]
  },
  {
   "cell_type": "code",
   "execution_count": null,
   "metadata": {},
   "outputs": [],
   "source": [
    "plt.plot(x,y)\n",
    "plt.vlines(ymax=1600,ymin=-1500,x=200,linestyles=\"--\",colors=\"red\",label= \"Infusor Ende\")\n",
    "plt.vlines(ymax=1600,ymin=-1500,x=775,linestyles=\"--\",colors=\"green\", label=\"Diffusor Anfang\")\n",
    "plt.grid()\n",
    "plt.title(\"Druck am Unterboden am Rand\")\n",
    "plt.xlabel(\"Schritte\")\n",
    "plt.ylabel(\"Relativer Druck [Pa]\")\n",
    "plt.legend(loc = \"upper center\")"
   ]
  },
  {
   "cell_type": "markdown",
   "metadata": {},
   "source": [
    "### Druck in der Mitte von der Höhe und am Rand von der Breite:"
   ]
  },
  {
   "cell_type": "code",
   "execution_count": null,
   "metadata": {},
   "outputs": [],
   "source": [
    "# Umkehrung der Daten da die Linie in Ansys in die Falsche Richtung gezogen wurde.\n",
    "dfi2 = pd.read_csv(\"Data/Data_Infusor2.csv\", sep=\",\")\n",
    "dfi2 = dfi2.iloc[::-1, ::-1]\n",
    "\n",
    "dfu2 = pd.read_csv(\"Data/Data_Underbody2.csv\", sep=\",\")\n",
    "dfu2 = dfu2.iloc[::-1, ::-1]\n",
    "\n",
    "dfd2 = pd.read_csv(\"Data/Data_Diffusor2.csv\", sep=\",\")\n",
    "dfd2 = dfd2.iloc[::-1, ::-1]\n",
    "\n",
    "# Zusammenfassen der Daten in ein DataFrame\n",
    "df2 = pd.concat([dfi2,dfu2,dfd2],ignore_index=True,sort=False)\n",
    "\n",
    "# Auslesen der y-Koordinaten\n",
    "y2 = df2[\"Pressure [ Pa ]\"]"
   ]
  },
  {
   "cell_type": "code",
   "execution_count": null,
   "metadata": {},
   "outputs": [],
   "source": [
    "plt.plot(x,y2)\n",
    "plt.vlines(ymax=1200,ymin=-1000,x=200,linestyles=\"--\",colors=\"red\",label= \"Infusor Ende\")\n",
    "plt.vlines(ymax=1200,ymin=-1000,x=775,linestyles=\"--\",colors=\"green\",label= \"Diffusor Anfang\")\n",
    "plt.grid()\n",
    "plt.title(\"Druck zwischen Strasse und Unterboden an der Aussenwand\")\n",
    "plt.xlabel(\"Schritte\")\n",
    "plt.ylabel(\"Relativer Druck [Pa]\")\n",
    "plt.legend(loc= \"upper center\")"
   ]
  },
  {
   "cell_type": "markdown",
   "metadata": {},
   "source": [
    "- Quadratischer Zusammenhang zwischen Druck und Geschwindigkeit.\n",
    "$$ \\dot{V} = b \\cdot h(x) \\cdot \\dot{x}, \\space  b  = \\text{const.} $$\n",
    "$$ \\dot{K} = h(x) \\cdot \\dot{x} = \\space \\text{const.} $$\n",
    "$$ p_x  = 0.5 \\cdot \\rho_{L} \\cdot (v_{inf}^2-v_x^2) + p_{inf} $$\n",
    "\n",
    "- Der grosse Gradient beim Diffusor weisst auf Strömungsabriss hin."
   ]
  },
  {
   "cell_type": "markdown",
   "metadata": {},
   "source": [
    "### Druck in der Mitte (Höhe und Breite):"
   ]
  },
  {
   "cell_type": "code",
   "execution_count": null,
   "metadata": {},
   "outputs": [],
   "source": [
    "# Umkehrung der Daten da die Linie in Ansys in die Falsche Richtung gezogen wurde.\n",
    "dfi3 = pd.read_csv(\"Data/Data_Infusor3.csv\", sep=\",\")\n",
    "dfi3 = dfi3.iloc[::-1, ::-1]\n",
    "\n",
    "dfu3 = pd.read_csv(\"Data/Data_Underbody3.csv\", sep=\",\")\n",
    "dfu3 = dfu3.iloc[::-1, ::-1]\n",
    "\n",
    "dfd3 = pd.read_csv(\"Data/Data_Diffusor3.csv\", sep=\",\")\n",
    "dfd3 = dfd3.iloc[::-1, ::-1]\n",
    "\n",
    "# Zusammenfassen der Daten in ein DataFrame\n",
    "df3 = pd.concat([dfi3,dfu3,dfd3],ignore_index=True,sort=False)\n",
    "\n",
    "# Auslesen der y-Koordinaten\n",
    "y3 = df3[\"Pressure [ Pa ]\"]"
   ]
  },
  {
   "cell_type": "code",
   "execution_count": null,
   "metadata": {},
   "outputs": [],
   "source": [
    "plt.plot(x,y3)\n",
    "plt.grid()\n",
    "plt.vlines(ymax=1200,ymin=-1500,x=200,linestyles=\"--\",colors=\"red\",label= \"Infusor Ende\")\n",
    "plt.vlines(ymax=1200,ymin=-1500,x=775,linestyles=\"--\",colors=\"green\",label= \"Diffusor Anfang\")\n",
    "plt.title(\"Druck zwischen Strasse und Unterboden in der Mitte\")\n",
    "plt.xlabel(\"Schritte\")\n",
    "plt.ylabel(\"Relativer Druck [Pa]\")\n",
    "plt.legend(loc=\"upper center\")"
   ]
  },
  {
   "cell_type": "markdown",
   "metadata": {},
   "source": [
    "- Es wird erkannt das der Fluss in der Mitte des Unterbodens sich erst später separiert. "
   ]
  },
  {
   "cell_type": "markdown",
   "metadata": {},
   "source": [
    "## Strömungsabriss:"
   ]
  },
  {
   "cell_type": "code",
   "execution_count": null,
   "metadata": {},
   "outputs": [],
   "source": [
    "# Umkehrung der Daten da die Linie in Ansys in die Falsche Richtung gezogen wurde.\n",
    "dfsi = pd.read_csv(\"Data/Shear_Infusor.csv\", sep=\",\")\n",
    "dfsi = dfsi.iloc[::-1, ::-1]\n",
    "\n",
    "dfsu = pd.read_csv(\"Data/Shear_Underbody.csv\", sep=\",\")\n",
    "dfsu = dfsu.iloc[::-1, ::-1]\n",
    "\n",
    "dfsd = pd.read_csv(\"Data/Shear_Diffusor.csv\", sep=\",\")\n",
    "dfsd = dfsd.iloc[::-1, ::-1]\n",
    "\n",
    "# Zusammenfassen der Daten in ein DataFrame\n",
    "dfs = pd.concat([dfsi,dfsu,dfsd],ignore_index=True,sort=False)\n",
    "\n",
    "# Auslesen der y-Koordinaten\n",
    "ys = dfs[\"Wall Shear Y [ Pa ]\"]"
   ]
  },
  {
   "cell_type": "code",
   "execution_count": null,
   "metadata": {},
   "outputs": [],
   "source": [
    "# Das erste Element finden bei dem \n",
    "for i in range(len(ys)):\n",
    "    if ys[i] <= 0:\n",
    "        l = i\n",
    "        break"
   ]
  },
  {
   "cell_type": "code",
   "execution_count": null,
   "metadata": {},
   "outputs": [],
   "source": [
    "plt.plot(x,ys)\n",
    "plt.vlines(ymax=11,ymin=-0.5,x=855,linestyles=\"--\",colors=\"red\",label=f\"Strömungsabriss nach {l} [mm]  \" )\n",
    "plt.grid()\n",
    "plt.title(\"Wall Shear am Unterboden\")\n",
    "plt.xlabel(\"Schritte\")\n",
    "plt.ylabel(\"Wall Shear stress [Pa]\")\n",
    "plt.legend()"
   ]
  },
  {
   "cell_type": "markdown",
   "metadata": {},
   "source": [
    "## Grenzschichtdicke:"
   ]
  },
  {
   "cell_type": "code",
   "execution_count": null,
   "metadata": {},
   "outputs": [],
   "source": []
  },
  {
   "cell_type": "markdown",
   "metadata": {},
   "source": [
    "## Auftrieb:"
   ]
  },
  {
   "cell_type": "markdown",
   "metadata": {},
   "source": [
    "- Der Auftrieb beträgt -294 [N]"
   ]
  }
 ],
 "metadata": {
  "kernelspec": {
   "display_name": ".venv",
   "language": "python",
   "name": "python3"
  },
  "language_info": {
   "codemirror_mode": {
    "name": "ipython",
    "version": 3
   },
   "file_extension": ".py",
   "mimetype": "text/x-python",
   "name": "python",
   "nbconvert_exporter": "python",
   "pygments_lexer": "ipython3",
   "version": "3.13.0"
  }
 },
 "nbformat": 4,
 "nbformat_minor": 2
}
