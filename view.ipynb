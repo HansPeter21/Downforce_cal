{
 "cells": [
  {
   "cell_type": "code",
   "execution_count": null,
   "metadata": {},
   "outputs": [],
   "source": [
    "import matplotlib.pyplot as plt\n",
    "import pandas as pd\n",
    "import numpy as np"
   ]
  },
  {
   "cell_type": "code",
   "execution_count": null,
   "metadata": {},
   "outputs": [],
   "source": [
    "# Umkehrung der Daten da die Linie in Ansys in die Falsche Richtung gezogen wurde.\n",
    "dfi  = pd.read_csv(\"Data/Data_Infusor.csv\", sep=\",\")\n",
    "dfi =  dfi.iloc[::-1, ::-1]"
   ]
  },
  {
   "cell_type": "code",
   "execution_count": null,
   "metadata": {},
   "outputs": [],
   "source": [
    "dfd = pd.read_csv(\"Data/Data_Diffusor.csv\", sep=\",\")\n",
    "dfd =  dfd.iloc[::-1, ::-1]"
   ]
  },
  {
   "cell_type": "code",
   "execution_count": null,
   "metadata": {},
   "outputs": [],
   "source": [
    "dfu = pd.read_csv(\"Data/Data_Underbody.csv\", sep=\",\")\n",
    "dfu =  dfu.iloc[::-1, ::-1]"
   ]
  },
  {
   "cell_type": "code",
   "execution_count": null,
   "metadata": {},
   "outputs": [],
   "source": [
    "df = pd.concat([dfi,dfu,dfd],ignore_index=True,sort=False)"
   ]
  },
  {
   "cell_type": "code",
   "execution_count": null,
   "metadata": {},
   "outputs": [],
   "source": [
    "x = np.linspace(0,975,975)"
   ]
  },
  {
   "cell_type": "code",
   "execution_count": null,
   "metadata": {},
   "outputs": [],
   "source": [
    "y = df[\"Pressure [ Pa ]\"]"
   ]
  },
  {
   "cell_type": "code",
   "execution_count": null,
   "metadata": {},
   "outputs": [],
   "source": [
    "plt.plot(x,y)\n",
    "plt.grid()\n",
    "plt.title(\"Druck am Unterboden\")\n",
    "plt.xlabel(\"Schritte\")\n",
    "plt.ylabel(\"Relativer Druck [Pa]\")"
   ]
  },
  {
   "cell_type": "code",
   "execution_count": null,
   "metadata": {},
   "outputs": [],
   "source": [
    "# Umkehrung der Daten da die Linie in Ansys in die Falsche Richtung gezogen wurde.\n",
    "dfi2 = pd.read_csv(\"Data/Data_Infusor2.csv\", sep=\",\")\n",
    "dfi2 = dfi2.iloc[::-1, ::-1]\n",
    "\n",
    "dfu2 = pd.read_csv(\"Data/Data_Underbody2.csv\", sep=\",\")\n",
    "dfu2 = dfu2.iloc[::-1, ::-1]\n",
    "\n",
    "dfd2 = pd.read_csv(\"Data/Data_Diffusor2.csv\", sep=\",\")\n",
    "dfd2 = dfd2.iloc[::-1, ::-1]\n",
    "\n",
    "# Zusammenfassen der Daten in ein DataFrame\n",
    "df2 = pd.concat([dfi2,dfu2,dfd2],ignore_index=True,sort=False)\n",
    "\n",
    "# Auslesen der y-Koordinaten\n",
    "y2 = df2[\"Pressure [ Pa ]\"]"
   ]
  },
  {
   "cell_type": "code",
   "execution_count": null,
   "metadata": {},
   "outputs": [],
   "source": [
    "plt.plot(x,y2)\n",
    "plt.grid()\n",
    "plt.title(\"Druck zwischen Strasse und Unterboden\")\n",
    "plt.xlabel(\"Schritte\")\n",
    "plt.ylabel(\"Relativer Druck [Pa]\")"
   ]
  },
  {
   "cell_type": "markdown",
   "metadata": {},
   "source": [
    "- Quadratischer Zusammenhang zwischen Druck und Geschwindigkeit.\n",
    "$$ p_x  = 0.5 \\cdot \\rho_{L} \\cdot (v_{inf}^2-v_x^2) + p_{inf} $$\n",
    "\n",
    "- Strömungsabriss beim Diffusor"
   ]
  }
 ],
 "metadata": {
  "kernelspec": {
   "display_name": ".venv",
   "language": "python",
   "name": "python3"
  },
  "language_info": {
   "codemirror_mode": {
    "name": "ipython",
    "version": 3
   },
   "file_extension": ".py",
   "mimetype": "text/x-python",
   "name": "python",
   "nbconvert_exporter": "python",
   "pygments_lexer": "ipython3",
   "version": "3.13.0"
  }
 },
 "nbformat": 4,
 "nbformat_minor": 2
}
