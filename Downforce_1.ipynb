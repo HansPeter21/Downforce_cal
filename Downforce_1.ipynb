{
 "cells": [
  {
   "cell_type": "code",
   "execution_count": null,
   "metadata": {},
   "outputs": [],
   "source": [
    "import numpy as np\n",
    "import matplotlib.pyplot as plt\n",
    "import src.Infuser_Diffuser as Infuser_Diffuser\n",
    "import src.Downforce_cal as Downforce_cal"
   ]
  },
  {
   "cell_type": "code",
   "execution_count": null,
   "metadata": {},
   "outputs": [],
   "source": [
    "rohL = 1.204 # [kg/m^3] # Dichte Luft \n",
    "vinf = 22 # [m/s] # Geschwindigkeit Fahrzeug\n",
    "pinf = 101325 #[Pa] Luftdruck aussen\n",
    "alpha = 15 # [°] # Winkel Infusor\n",
    "Beta = 15 # [°] # Winkel Diffusor\n",
    "L = 1.1 # [m] Gesamt Länge\n",
    "lI = 0.2 # [m]  Länge Infusor\n",
    "N = 0.2 # [m] Länge Diffusor\n",
    "lU = 0.7 # [m]  Länge Unterboden\n",
    "h2 = 0.03 # [m] Höhe Unterboden\n",
    "b = 0.4 # [m] Breite des Unterboden (gesamt)\n",
    "nu  = 1.33*10**(-5) # kinematische viskosität [m^2/s]"
   ]
  },
  {
   "cell_type": "code",
   "execution_count": null,
   "metadata": {},
   "outputs": [],
   "source": [
    "delF2 = Downforce_cal.calculate_Downforce(rohL,vinf,pinf,alpha,Beta,L,lI,N,lU,h2,b)"
   ]
  },
  {
   "cell_type": "code",
   "execution_count": null,
   "metadata": {},
   "outputs": [],
   "source": [
    "delF1,delF3 = Infuser_Diffuser.Infuser_Diffuser_f(alpha,Beta,lI,N,vinf,b,h2,L,pinf,rohL,lU,nu)"
   ]
  },
  {
   "cell_type": "code",
   "execution_count": null,
   "metadata": {},
   "outputs": [],
   "source": [
    "name = [\"Infusor\",\"Unterboden\",\"Diffusor\"]\n",
    "Fb =  [delF1,delF2,delF3]\n",
    "plt.bar(name,Fb)\n",
    "plt.grid()\n",
    "plt.ylabel(\"Kraft [N]\")"
   ]
  },
  {
   "cell_type": "code",
   "execution_count": null,
   "metadata": {},
   "outputs": [],
   "source": [
    "F = delF1+delF2+delF3\n",
    "F"
   ]
  },
  {
   "cell_type": "markdown",
   "metadata": {},
   "source": [
    "### Probleme:\n"
   ]
  },
  {
   "cell_type": "markdown",
   "metadata": {},
   "source": [
    "- Infusor kann nicht null sein, wenn im Unterboden kein Infusor verbaut wird fungiert die Schnauze als Infusor\n",
    "- Es wird nur $\\Delta{F}$ berechnet  "
   ]
  }
 ],
 "metadata": {
  "kernelspec": {
   "display_name": "base",
   "language": "python",
   "name": "python3"
  },
  "language_info": {
   "codemirror_mode": {
    "name": "ipython",
    "version": 3
   },
   "file_extension": ".py",
   "mimetype": "text/x-python",
   "name": "python",
   "nbconvert_exporter": "python",
   "pygments_lexer": "ipython3",
   "version": "3.11.7"
  }
 },
 "nbformat": 4,
 "nbformat_minor": 2
}
