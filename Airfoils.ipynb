{
 "cells": [
  {
   "cell_type": "code",
   "execution_count": 3,
   "metadata": {},
   "outputs": [],
   "source": [
    "import math"
   ]
  },
  {
   "cell_type": "code",
   "execution_count": 4,
   "metadata": {},
   "outputs": [
    {
     "name": "stdout",
     "output_type": "stream",
     "text": [
      "Downforce: 38.73 N\n",
      "Downforce: 38.72667700137769 N\n"
     ]
    }
   ],
   "source": [
    "# Function to calculate Lift Coefficient (CL) for a given angle of attack (in degrees)\n",
    "def calculate_CL(angle_of_attack_deg):\n",
    "    # Convert angle of attack from degrees to radians\n",
    "    angle_of_attack_rad = math.radians(angle_of_attack_deg)\n",
    "    # CL for a thin airfoil (NACA 4-digit example)\n",
    "    CL = 2 * math.pi * math.sin(angle_of_attack_rad)\n",
    "    return CL\n",
    "\n",
    "# Function to calculate downforce\n",
    "def calculate_downforce(rho, velocity, reference_area, angle_of_attack_deg):\n",
    "    # Step 1: Calculate the Lift Coefficient (CL)\n",
    "    CL = calculate_CL(angle_of_attack_deg)\n",
    "    \n",
    "    # Step 2: Apply the downforce formula\n",
    "    downforce = 0.5 * rho * velocity**2 * reference_area * CL\n",
    "    \n",
    "    return downforce\n",
    "\n",
    "# Define known parameters\n",
    "rho = 1.225  # Air density at sea level in kg/m^3\n",
    "velocity = 22  # Velocity in m/s\n",
    "reference_area = 0.1  # Reference area in m^2 (wing area)\n",
    "angle_of_attack = 12.0  # Angle of attack in degrees\n",
    "\n",
    "# Calculate the downforce\n",
    "downforce = calculate_downforce(rho, velocity, reference_area, angle_of_attack)\n",
    "\n",
    "# Print the result\n",
    "print(f\"Downforce: {downforce:.2f} N\")\n",
    "\n",
    "# Output the result\n",
    "print(f\"Downforce: {downforce} N\")"
   ]
  }
 ],
 "metadata": {
  "kernelspec": {
   "display_name": "base",
   "language": "python",
   "name": "python3"
  },
  "language_info": {
   "codemirror_mode": {
    "name": "ipython",
    "version": 3
   },
   "file_extension": ".py",
   "mimetype": "text/x-python",
   "name": "python",
   "nbconvert_exporter": "python",
   "pygments_lexer": "ipython3",
   "version": "3.11.7"
  }
 },
 "nbformat": 4,
 "nbformat_minor": 2
}
