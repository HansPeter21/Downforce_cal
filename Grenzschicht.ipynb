{
 "cells": [
  {
   "cell_type": "code",
   "execution_count": null,
   "metadata": {},
   "outputs": [],
   "source": [
    "import numpy as np\n",
    "import matplotlib.pyplot as plt"
   ]
  },
  {
   "cell_type": "markdown",
   "metadata": {},
   "source": [
    "### Parameter:"
   ]
  },
  {
   "cell_type": "code",
   "execution_count": null,
   "metadata": {},
   "outputs": [],
   "source": [
    "nu = 1.33 * 10 ** (-5)  # kinematische viskosität [m^2/s]\n",
    "x = np.linspace(0.01, 0.975)  # Länge Seitenkasten [m]\n",
    "v0 = 22  # Geschwindigkeit [m/s]\n",
    "Re = (v0 * x) / nu  # Reynolds-Zahl\n",
    "x1 = []\n",
    "x2 = []\n",
    "delta1 = []\n",
    "delta2 = []\n",
    "\n",
    "\n",
    "# Unterscheidung von laminar und turbulenter Berechnung der Grenzschichtdicke\n",
    "for xi in x:\n",
    "    if v0 * xi / nu < 5 * 10**5:\n",
    "        x1.append(xi)\n",
    "        delta1.append(1000*(5 * xi / (((v0 * xi) / nu) ** (1 / 2))))  # Laminar\n",
    "    else:\n",
    "        x2.append(xi)\n",
    "        delta2.append(1000*(0.382 * xi / (((v0 * xi) / nu) ** (1 / 5))))  # Turbulent\n",
    "\n",
    "# [m] Ort des Überganges von laminar zu turbulent\n",
    "ab = 5 * 10**5 * nu / v0"
   ]
  },
  {
   "cell_type": "code",
   "execution_count": null,
   "metadata": {},
   "outputs": [],
   "source": [
    "plt.plot(x1, delta1, label=\"laminare Grenzschichtdicke\")\n",
    "plt.plot(x2, delta2, label=\"turbulente Grenzschichtdicke\")\n",
    "plt.hlines(xmax=1,xmin=0,y=30,colors=\"green\",label=\"Mindesthöhe des Seitenkastens\")\n",
    "plt.axvline(x=ab, color=\"r\", linestyle=\"-.\", label=f\"Übergang bei ab={round(ab,3)}[m]\")\n",
    "plt.grid()\n",
    "plt.xlabel(\"Länge Seitenkästen [m]\")\n",
    "plt.ylabel(\"Grenzschichtdicke [mm]\")\n",
    "plt.title(f\"Grenzschichtdicke bei v0={v0}m/s\")\n",
    "plt.legend(loc=\"lower right\")"
   ]
  },
  {
   "cell_type": "code",
   "execution_count": null,
   "metadata": {},
   "outputs": [],
   "source": [
    "v01 = np.linspace(1, 50)\n",
    "v011 = []\n",
    "v012 = []\n",
    "delta3 = []\n",
    "delta4 = []\n",
    "for vi in v01:\n",
    "    if vi * 1 / nu < 5 * 10**5:\n",
    "        v011.append(vi)\n",
    "        delta3.append(1000*(5 * 1 / (((vi * 1) / nu) ** (1 / 2))))\n",
    "    else:\n",
    "        v012.append(vi)\n",
    "        delta4.append(1000*(0.382 * 1 / (((vi * 1) / nu) ** (1 / 5))))\n",
    "\n",
    "plt.plot(v011, delta3, label=\"laminare Grenzschichtdicke bei 0.975m\")\n",
    "plt.plot(v012, delta4, label=\"turbulente Grenzschichtdicke bei 0.975m\")\n",
    "\n",
    "plt.grid()\n",
    "plt.xlabel(\"Geschwindigkeit [m/s]\")\n",
    "plt.ylabel(\"Grenzschichtdicke [mm]\")\n",
    "plt.hlines(xmax=50,xmin=0,y=30,colors=\"green\",label=\"Mindesthöhe des Seitenkastens\")\n",
    "plt.title(f\"Grenzschichtdicke bei 0.975 [m]\")\n",
    "plt.legend(loc=\"lower right\")"
   ]
  }
 ],
 "metadata": {
  "kernelspec": {
   "display_name": "base",
   "language": "python",
   "name": "python3"
  },
  "language_info": {
   "codemirror_mode": {
    "name": "ipython",
    "version": 3
   },
   "file_extension": ".py",
   "mimetype": "text/x-python",
   "name": "python",
   "nbconvert_exporter": "python",
   "pygments_lexer": "ipython3",
   "version": "3.11.7"
  }
 },
 "nbformat": 4,
 "nbformat_minor": 2
}
